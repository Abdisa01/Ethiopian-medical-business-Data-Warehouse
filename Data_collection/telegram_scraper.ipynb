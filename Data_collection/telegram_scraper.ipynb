{
 "cells": [
  {
   "cell_type": "code",
   "execution_count": 1,
   "metadata": {},
   "outputs": [
    {
     "output_type": "stream",
     "text": [
      "2025-01-31 11:58:48,253 - INFO - Connecting to 149.154.167.92:443/TcpFull...\n",
      "2025-01-31 11:58:48,360 - INFO - Connection to 149.154.167.92:443/TcpFull complete!\n"
     ]
    },
    {
     "name": "stdout",
     "output_type": "stream",
     "text": [
      "Please enter the code you received: "
     ]
    }
   ],
   "source": [
    "from telethon import TelegramClient\n",
    "import csv\n",
    "import logging\n",
    "import os\n",
    "import asyncio\n",
    "import tkinter as tk\n",
    "from tkinter import simpledialog\n",
    "\n",
    "# Configure logging\n",
    "logging.basicConfig(level=logging.INFO, format='%(asctime)s - %(levelname)s - %(message)s')\n",
    "\n",
    "# Telegram API credentials\n",
    "TG_API_ID = 29294185\n",
    "TG_API_HASH = 'aab7ac1b04800f8cacd9bb582779349e'\n",
    "PHONE = '+251954737771'\n",
    "SESSION_NAME = 'telegram_scraper'\n",
    "\n",
    "# Target channels\n",
    "CHANNELS = [\n",
    "    'https://t.me/lobelia4cosmetics',\n",
    "    'https://t.me/DoctorsET',\n",
    "    'https://t.me/CheMed123',\n",
    "    'https://t.me/yetenaweg',\n",
    "    'https://t.me/EAHCI'\n",
    "]\n",
    "\n",
    "def save_to_csv(data):\n",
    "    file_exists = os.path.isfile('Medical_data.csv')\n",
    "    with open('Medical_data.csv', mode='a', newline='', encoding='utf-8') as file:\n",
    "        writer = csv.writer(file)\n",
    "        if not file_exists:\n",
    "            writer.writerow([\"Channel Title\", \"Channel Username\", \"ID\", \"Message\", \"Date\", \"Mediapath\"])\n",
    "        writer.writerow(data)\n",
    "\n",
    "async def scrape_telegram(search_term=\"\"):  # Default to an empty string\n",
    "    client = TelegramClient(SESSION_NAME, TG_API_ID, TG_API_HASH)\n",
    "    await client.start(PHONE)\n",
    "\n",
    "    # Create Tkinter window for input (for manual verification code)\n",
    "    root = tk.Tk()\n",
    "    root.withdraw()  # Hide the root window\n",
    "    code = simpledialog.askstring(\"Verification Code\", \"Enter the verification code sent to your phone:\")\n",
    "    \n",
    "    if code:\n",
    "        await client.sign_in(PHONE, code)\n",
    "    \n",
    "    for channel in CHANNELS:\n",
    "        try:\n",
    "            async for message in client.iter_messages(channel):\n",
    "                text = message.text or ''\n",
    "                if search_term and search_term.lower() not in text.lower():\n",
    "                    continue\n",
    "                \n",
    "                media_path = None\n",
    "                # Download media if available\n",
    "                if message.media:\n",
    "                    os.makedirs(\"photos\", exist_ok=True)\n",
    "                    media_path = f'photos/{channel.split(\"/\")[-1]}_{message.id}.jpg'\n",
    "                    await message.download_media(file=media_path)\n",
    "                \n",
    "                # Save to CSV\n",
    "                save_to_csv([channel, channel.split(\"/\")[-1], message.id, text, message.date, media_path])\n",
    "                \n",
    "                logging.info(f'Scraped from {channel}: {text[:50]}')\n",
    "        except Exception as e:\n",
    "            logging.error(f'Error scraping {channel}: {e}')\n",
    "    \n",
    "    await client.disconnect()\n",
    "\n",
    "if __name__ == \"__main__\":\n",
    "    # Run scraping without search term input\n",
    "    if not asyncio.get_event_loop().is_running():\n",
    "        asyncio.run(scrape_telegram())\n",
    "    else:\n",
    "        asyncio.create_task(scrape_telegram())\n"
   ]
  }
 ],
 "metadata": {
  "kernelspec": {
   "display_name": "base",
   "language": "python",
   "name": "python3"
  },
  "language_info": {
   "codemirror_mode": {
    "name": "ipython",
    "version": 3
   },
   "file_extension": ".py",
   "mimetype": "text/x-python",
   "name": "python",
   "nbconvert_exporter": "python",
   "pygments_lexer": "ipython3",
   "version": "3.11.7"
  }
 },
 "nbformat": 4,
 "nbformat_minor": 2
}
